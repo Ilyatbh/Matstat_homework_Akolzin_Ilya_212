{
 "cells": [
  {
   "cell_type": "code",
   "execution_count": 293,
   "id": "96fafc1b-ecae-41bb-be68-c0c965ce92df",
   "metadata": {},
   "outputs": [],
   "source": [
    "import numpy as np\n",
    "import matplotlib.pyplot as plt"
   ]
  },
  {
   "cell_type": "code",
   "execution_count": null,
   "id": "5498121d-357c-464f-b4eb-0cbc0bad54d8",
   "metadata": {},
   "outputs": [],
   "source": [
    "t = 25.02\n",
    "vib = list()\n",
    "n = 100\n",
    "a = np.random.uniform(t, 2 * t, n)\n",
    "a\n",
    "betta = 0.95\n",
    "def alpha_1(a):\n",
    "    return sum(a)/n\n",
    "def alpha_2(a):\n",
    "    return sum(a ** 2)/n\n",
    "print(a)"
   ]
  },
  {
   "cell_type": "markdown",
   "id": "323f14fd-a8a9-46c0-a681-6ab37540f843",
   "metadata": {},
   "source": [
    "##  n = 100, доверительная вероятность = 0.95"
   ]
  },
  {
   "cell_type": "markdown",
   "id": "58b1bf6b-ee50-4fa6-84b5-435a7e8c3a87",
   "metadata": {},
   "source": [
    "# Точный доверительный интервал"
   ]
  },
  {
   "cell_type": "code",
   "execution_count": 295,
   "id": "c36ad2b4-3209-41d4-b725-38aff16ed38b",
   "metadata": {},
   "outputs": [],
   "source": [
    "def exact(a, betta = 0.95):\n",
    "    l = max(a) / (((1 + betta) / 2) ** (1/n) + 1)\n",
    "    r = max(a) / (((1 - betta) / 2) ** (1/n) + 1)\n",
    "    print(l,'< theta <', r)\n",
    "    print(r - l)\n",
    "    print()\n",
    "    return l, r"
   ]
  },
  {
   "cell_type": "markdown",
   "id": "d952dc6b-5a67-4729-bf34-233947edcaa3",
   "metadata": {},
   "source": [
    "#### Асимтотический доверительный интервал"
   ]
  },
  {
   "cell_type": "code",
   "execution_count": 296,
   "id": "ff59b5e6-87c1-42f9-aaea-992b2a475655",
   "metadata": {},
   "outputs": [],
   "source": [
    "def OMM(a, betta = 0.95):\n",
    "    l = -1.96 * 2/3 * (alpha_2(a) - alpha_1(a) ** 2) ** (1/2) / (n) ** (1/2) + 2/3 * np.mean(a)\n",
    "    r = 1.96 * 2/3 * (alpha_2(a) - alpha_1(a) ** 2) ** (1/2) / (n) ** (1/2) + 2/3 * np.mean(a)\n",
    "\n",
    "    print(l, '< theta', r)\n",
    "    print(r - l)\n",
    "\n",
    "    return l, r"
   ]
  },
  {
   "cell_type": "code",
   "execution_count": 297,
   "id": "dc8ef8de-6da7-4220-97cb-49fac8e1b14a",
   "metadata": {},
   "outputs": [],
   "source": [
    "def get_bootstrap_sample(x, B_sample = 1000):\n",
    "    N = len(x)\n",
    "    result = list()\n",
    "    for i in range (B_sample):\n",
    "        sample = np.random.choice(x, size = N, replace = True)\n",
    "        if (B_sample == 1):\n",
    "            sample = sample.T[0]\n",
    "        result.append(sample)\n",
    "    return result"
   ]
  },
  {
   "cell_type": "markdown",
   "id": "3697f4e9-dd08-4a25-84f4-d020595f8208",
   "metadata": {},
   "source": [
    "## Построение бутстраповского доверительного интервала"
   ]
  },
  {
   "cell_type": "code",
   "execution_count": 298,
   "id": "28408bcd-e4a9-4566-a924-505ccd76e075",
   "metadata": {},
   "outputs": [],
   "source": [
    "def bootstrap_OMM_nep(a):\n",
    "    origin_mean = 2/3 * a.mean()\n",
    "    sample = np.array(get_bootstrap_sample(a))\n",
    "    boot_mean = list()\n",
    "    for i in range(1000):\n",
    "        boot_mean.append(2/3 * sample[i].mean())\n",
    "    boot_mean = np.array(boot_mean)\n",
    "    delta = boot_mean - origin_mean\n",
    "    delta.sort()\n",
    "    k1 = 24\n",
    "    k2 = 974\n",
    "    l= origin_mean - delta[k2]\n",
    "    r = origin_mean - delta[k1]\n",
    "    print(l, '< theta <', r)\n",
    "    print(r - l)\n",
    "    print()\n",
    "    return l, r\n"
   ]
  },
  {
   "cell_type": "markdown",
   "id": "b47d10f5-35f3-4f69-9272-0cb982b5024b",
   "metadata": {},
   "source": [
    "## Построение бутстраповского доверительного интервала \\frac{2}{3}x_{ср}$"
   ]
  },
  {
   "cell_type": "code",
   "execution_count": 299,
   "id": "ef9347c6-e44c-4427-ba74-9a4830e69cb2",
   "metadata": {},
   "outputs": [],
   "source": [
    "def bootstrap_OMM_par(a):\n",
    "    origin_mean = 2/3 * a.mean()\n",
    "    om = 2/3 * a.mean()\n",
    "    tetta = origin_mean\n",
    "    n = 100\n",
    "    sample = list()\n",
    "    sample_grade = list()\n",
    "    for i in range(50000):\n",
    "        sample.append(np.random.uniform(tetta, 2 * tetta, n))\n",
    "        sample_grade.append(2 / 3 * sample[i].mean())\n",
    "    sample = np.array(sample)\n",
    "    sample_grade = np.array(sample_grade)\n",
    "    sample_grade.sort()\n",
    "    k1 = 1249\n",
    "    k2 = 48749\n",
    "    l = sample_grade[k1]\n",
    "    r = sample_grade[k2]\n",
    "    print(l, '< theta <', r)\n",
    "    print( r - l)\n",
    "    print()\n",
    "    return l, r"
   ]
  },
  {
   "cell_type": "markdown",
   "id": "9b145488-edda-49fa-971c-1fc8b731f1d1",
   "metadata": {},
   "source": [
    "## Построение бутстраповского доверительного интервала \\frac{x_{max}}{2} $"
   ]
  },
  {
   "cell_type": "code",
   "execution_count": 300,
   "id": "8a15b5ed-57d3-49d1-8913-c81872741f0d",
   "metadata": {},
   "outputs": [],
   "source": [
    "def bootstrap_OMP_nep(a):\n",
    "    origin_max = 1/2 * max(a)\n",
    "    sample = np.array(get_bootstrap_sample(a))\n",
    "    boot_max = list()\n",
    "    for i in range(1000):\n",
    "        boot_max.append(1/2 * sample[i].max())\n",
    "    boot_max = np.array(boot_max)\n",
    "    delta = boot_max - origin_max\n",
    "    delta.sort()\n",
    "    k1 = 24\n",
    "    k2 = 974\n",
    "    r = origin_max - delta[k1]\n",
    "    l = origin_max - delta[k2]\n",
    "    print(l, '< theta <', r)\n",
    "    print(r - l)\n",
    "    print()\n",
    "    return l, r"
   ]
  },
  {
   "cell_type": "markdown",
   "id": "95ddc414-37b0-4071-89e3-0d1a1688c686",
   "metadata": {},
   "source": [
    "## Построение бутстраповского доверительного интервала \\frac{x_{max}}{2} $"
   ]
  },
  {
   "cell_type": "code",
   "execution_count": 301,
   "id": "b86f7dce-b9c9-4109-9911-0ba148054bdc",
   "metadata": {},
   "outputs": [],
   "source": [
    "def bootstrap_OMP_par(a):\n",
    "    origin_max = 1/2 * max(a)\n",
    "    tetta = origin_max\n",
    "    n = 100\n",
    "    sample = list()\n",
    "    sample_grade = list()\n",
    "    for i in range(50000):\n",
    "        sample.append(np.random.uniform(tetta, 2 * tetta, n))\n",
    "        sample_grade.append(1 / 2 * sample[i].max())\n",
    "    sample = np.array(sample)\n",
    "    sample_grade = np.array(sample_grade)\n",
    "    sample_grade.sort()\n",
    "    k1 = 1249\n",
    "    k2 = 48749\n",
    "    r = sample_grade[k2]\n",
    "    l = sample_grade[k1]\n",
    "    print(l, '< theta <', r)\n",
    "    print(r - l)\n",
    "    print()\n",
    "    return l, r"
   ]
  },
  {
   "cell_type": "code",
   "execution_count": 314,
   "id": "527046cb-1f9f-4655-824c-77a29f87bbc6",
   "metadata": {},
   "outputs": [],
   "source": [
    "def printthis(tetta = 25.02):\n",
    "    n = 100\n",
    "    a = np.random.uniform(tetta, 2 * tetta, n)\n",
    "    print(a)\n",
    "    print()\n",
    "    l_exact, r_exact = exact(a)\n",
    "    l_as_OMM, r_as_OMM = OMM(a)\n",
    "    l_OMM_nep, r_OMM_nep = bootstrap_OMM_nep(a)\n",
    "    l_OMM_par, r_OMM_par = bootstrap_OMM_par(a)\n",
    "    l_OMP_nep, r_OMP_nep = bootstrap_OMP_nep(a)\n",
    "    l_OMP_par, r_OMP_par = bootstrap_OMP_par(a)\n",
    "    plt.plot((l_exact, r_exact), (0, 0), label= \"Точный\")\n",
    "    plt.plot((l_as_OMM, r_as_OMM), (1, 1), label= \"ОММ (асимптотически)\")\n",
    "    plt.plot((l_OMM_par, r_OMM_par), (2, 2), label= \"ОММ (параметрический бутстрап\")\n",
    "    plt.plot((l_OMM_nep, r_OMM_nep), (3, 3), label = \"ОММ (непараметрический бутстрап)\")\n",
    "    plt.plot((l_OMP_par, r_OMP_par), (4, 4), label= \"ОМП (параметрический бутстрап)\")\n",
    "    plt.plot((l_OMP_nep, r_OMP_nep), (5, 5), label= \"ОМП (непараметрический бутстрап)\")\n",
    "    plt.legend(bbox_to_anchor=(1.05, 1.0), loc='upper left')\n",
    "    plt.tight_layout()\n"
   ]
  }
 ],
 "metadata": {
  "kernelspec": {
   "display_name": "Python 3 (ipykernel)",
   "language": "python",
   "name": "python3"
  },
  "language_info": {
   "codemirror_mode": {
    "name": "ipython",
    "version": 3
   },
   "file_extension": ".py",
   "mimetype": "text/x-python",
   "name": "python",
   "nbconvert_exporter": "python",
   "pygments_lexer": "ipython3",
   "version": "3.10.12"
  }
 },
 "nbformat": 4,
 "nbformat_minor": 5
}
