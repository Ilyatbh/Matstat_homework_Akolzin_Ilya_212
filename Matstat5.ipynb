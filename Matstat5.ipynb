{
 "cells": [
  {
   "cell_type": "code",
   "execution_count": 153,
   "id": "a8908768-3a2f-4e04-bf2b-e705bbb0a42b",
   "metadata": {},
   "outputs": [],
   "source": [
    "import numpy as np\n",
    "import matplotlib.pyplot as plt"
   ]
  },
  {
   "cell_type": "code",
   "execution_count": null,
   "id": "943cb8bd-214d-4a27-8c01-74734b832204",
   "metadata": {
    "scrolled": true
   },
   "outputs": [],
   "source": [
    "theta = 5.532\n",
    "n = 100\n",
    "random_array = np.random.rand(n)\n",
    "x = (1 - random_array) ** (1/(1 - theta))\n",
    "x = sorted(x)\n",
    "print(x)\n",
    "\n",
    "def get_bootstrap_sample(x, B_sample = 1000):\n",
    "    N = len(x)\n",
    "    result = list()\n",
    "    for i in range (B_sample):\n",
    "        sample = np.random.choice(x, size = N, replace = True)\n",
    "        if (B_sample == 1):\n",
    "            sample = sample.T[0]\n",
    "        result.append(sample)\n",
    "    return result"
   ]
  },
  {
   "cell_type": "markdown",
   "id": "9981199c-9998-4cb8-b892-81f05b104ba7",
   "metadata": {},
   "source": [
    "## Доверительный интервал для медианы"
   ]
  },
  {
   "cell_type": "code",
   "execution_count": 178,
   "id": "0ec861b2-598e-4710-9c4b-5f1f906b97a9",
   "metadata": {},
   "outputs": [],
   "source": [
    "def theta_waved(a, n = 100):\n",
    "    sum = 0\n",
    "    for i in range(n):\n",
    "        sum += np.log(a[i])\n",
    "    return len(a) / sum + 1\n",
    "    \n",
    "def median(a):\n",
    "    theta_w = theta_waved(x)\n",
    "    l_c = -1.96 * np.log(2) * (2 ** (1 / (theta_w - 1)))\n",
    "    l_z = (theta_w - 1)  * n ** (1/2)\n",
    "    l_med = l_c / l_z + 2 ** (1 / (theta_w - 1))\n",
    "    r_c = 1.96 * np.log(2) * (2 ** (1 / (theta_w - 1)))\n",
    "    r_z = (theta_w - 1)  * n ** (1/2)\n",
    "    r_med = r_c / r_z + 2 ** (1 / (theta_w - 1))\n",
    "\n",
    "    print(l_med, '< theta <', r_med)\n",
    "    print('Длина доверительного интервала равна', r_med - l_med)\n",
    "    print()\n",
    "    return l_med, r_med"
   ]
  },
  {
   "cell_type": "markdown",
   "id": "71ccc1f4-732d-4ae9-a34c-be028ceb83db",
   "metadata": {},
   "source": [
    "## Асимптотический "
   ]
  },
  {
   "cell_type": "code",
   "execution_count": 179,
   "id": "eb6ca0f1-228f-4708-9436-fb5b0c9211f7",
   "metadata": {},
   "outputs": [],
   "source": [
    "def theta_est(a):\n",
    "    theta_w = theta_waved(a)\n",
    "    l = -1.96 * (theta_w - 1) / (n ** 1/2) + theta_w\n",
    "    r = 1.96 * (theta_w - 1) / (n ** 1/2) + theta_w\n",
    "    print(l, \"< theta <\", r)\n",
    "    print(r - l)\n",
    "    print()\n",
    "    return l, r"
   ]
  },
  {
   "cell_type": "markdown",
   "id": "6fe5b312-3db7-4efe-a15b-142d76b3d375",
   "metadata": {},
   "source": [
    "## Бутстраповский доверительный интервал"
   ]
  },
  {
   "cell_type": "code",
   "execution_count": 180,
   "id": "27b9ca80-4cb5-4791-b736-5eb68f014517",
   "metadata": {},
   "outputs": [],
   "source": [
    "def bootstrap_par(a):\n",
    "    origin_est = theta_waved(a)\n",
    "    tetta = origin_est\n",
    "    n = 100\n",
    "    sample = list()\n",
    "    sample_grade = list()\n",
    "    for i in range(50000):\n",
    "        sample.append(np.random.uniform(tetta, 2 * tetta, n))\n",
    "        sample_grade.append(theta_waved(sample[i]))\n",
    "    sample_grade = np.array(sample_grade)\n",
    "    sample_grade.sort()\n",
    "    k1 = 1249\n",
    "    k2 = 48749\n",
    "    l = sample_grade[k1]\n",
    "    r = sample_grade[k2]\n",
    "    print(l, '< theta <', r)\n",
    "    print(r - l)\n",
    "    print()\n",
    "    return l, r"
   ]
  },
  {
   "cell_type": "markdown",
   "id": "718fd473-6213-45fb-8a4a-d0b78c7a3e32",
   "metadata": {},
   "source": [
    "## Бутстраповский доверительный интервал "
   ]
  },
  {
   "cell_type": "code",
   "execution_count": 181,
   "id": "e9ad1a07-ccf7-49ed-9b72-6fd8d7c6053e",
   "metadata": {},
   "outputs": [],
   "source": [
    "def bootstrap_nep(a):\n",
    "    origin_est = theta_waved(a)\n",
    "    sample = np.array(get_bootstrap_sample(a))\n",
    "    boot_est = list()\n",
    "    for i in range(1000):\n",
    "        boot_est.append(theta_waved(sample[i]))\n",
    "    boot_est = np.array(boot_est)\n",
    "    delta = boot_est - origin_est\n",
    "    delta.sort()\n",
    "    k1 = 24\n",
    "    k2 = 974\n",
    "    r = origin_est - delta[k1]\n",
    "    l = origin_est - delta[k2]\n",
    "    print(l, '< theta <', r)\n",
    "    print(r - l)\n",
    "    print()\n",
    "    return l, r"
   ]
  },
  {
   "cell_type": "code",
   "execution_count": 182,
   "id": "77035241-b835-4d1e-8100-a8f57475002c",
   "metadata": {},
   "outputs": [],
   "source": [
    "def printthis(theta = 5.502):\n",
    "    n = 100\n",
    "    random_array = np.random.rand(n)\n",
    "    a = (1 - random_array) ** (1/(1 - theta))\n",
    "    a = sorted(a)\n",
    "    print(a)\n",
    "    print()\n",
    "    l_med, r_med = median(a)\n",
    "    l_as, r_as = theta_est(a)\n",
    "    l_boot_nep, r_boot_nep = bootstrap_nep(a)\n",
    "    l_boot_par, r_boot_par = bootstrap_par(a)\n",
    "    plt.plot((l_as, r_as), (0, 0), label= \"Асимптотическая оценка параметра\")\n",
    "    plt.plot((l_med, r_med), (1, 1), label= \"Асимптотическая оценка медианы\")\n",
    "    plt.plot((l_boot_nep, r_boot_nep), (2, 2), label= \"Непараметрический бутстрап\")\n",
    "    plt.plot((l_boot_par, r_boot_par), (3, 3), label= 'Параметрический бутстрап')\n",
    "    plt.legend(bbox_to_anchor=(1.05, 1.0), loc='upper left')\n",
    "    plt.tight_layout()"
   ]
  }
 ],
 "metadata": {
  "kernelspec": {
   "display_name": "Python 3 (ipykernel)",
   "language": "python",
   "name": "python3"
  },
  "language_info": {
   "codemirror_mode": {
    "name": "ipython",
    "version": 3
   },
   "file_extension": ".py",
   "mimetype": "text/x-python",
   "name": "python",
   "nbconvert_exporter": "python",
   "pygments_lexer": "ipython3",
   "version": "3.10.12"
  }
 },
 "nbformat": 4,
 "nbformat_minor": 5
}
